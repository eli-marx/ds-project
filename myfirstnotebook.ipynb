{
 "cells": [
  {
   "cell_type": "code",
   "execution_count": 1,
   "id": "cbc6990c",
   "metadata": {},
   "outputs": [
    {
     "name": "stdout",
     "output_type": "stream",
     "text": [
      "Hello World!\n"
     ]
    }
   ],
   "source": [
    "print(\"Hello World!\")"
   ]
  },
  {
   "cell_type": "code",
   "execution_count": 3,
   "id": "cfb014c7",
   "metadata": {},
   "outputs": [
    {
     "data": {
      "text/html": [
       "<div>\n",
       "<style scoped>\n",
       "    .dataframe tbody tr th:only-of-type {\n",
       "        vertical-align: middle;\n",
       "    }\n",
       "\n",
       "    .dataframe tbody tr th {\n",
       "        vertical-align: top;\n",
       "    }\n",
       "\n",
       "    .dataframe thead th {\n",
       "        text-align: right;\n",
       "    }\n",
       "</style>\n",
       "<table border=\"1\" class=\"dataframe\">\n",
       "  <thead>\n",
       "    <tr style=\"text-align: right;\">\n",
       "      <th></th>\n",
       "      <th>title</th>\n",
       "      <th>snippet</th>\n",
       "      <th>rating</th>\n",
       "      <th>date</th>\n",
       "    </tr>\n",
       "  </thead>\n",
       "  <tbody>\n",
       "    <tr>\n",
       "      <th>0</th>\n",
       "      <td>《鱿鱼游戏》的空间与符号隐喻分析，人性外“浓缩”的社会规则</td>\n",
       "      <td>这篇剧评可能有剧透                        （首发于公众号：霧風誌，欢...</td>\n",
       "      <td>50.0</td>\n",
       "      <td>2021-09-19 15:40:14</td>\n",
       "    </tr>\n",
       "    <tr>\n",
       "      <th>1</th>\n",
       "      <td>我讨厌那些理智的评论</td>\n",
       "      <td>这个电视剧里设计的游戏就是你我身处真实世界的一个形态变化。 每一次，大家都在强调，人不是数字...</td>\n",
       "      <td>50.0</td>\n",
       "      <td>2021-09-20 14:27:58</td>\n",
       "    </tr>\n",
       "    <tr>\n",
       "      <th>2</th>\n",
       "      <td>我赌马打架不工作啃老但我知道我是个好爸爸好儿子</td>\n",
       "      <td>这篇剧评可能有剧透                        圣父，是众生之父。 这部片...</td>\n",
       "      <td>30.0</td>\n",
       "      <td>2021-09-19 19:41:11</td>\n",
       "    </tr>\n",
       "    <tr>\n",
       "      <th>3</th>\n",
       "      <td>男主不是圣父，而是伪善，坏而不自知！！</td>\n",
       "      <td>这篇剧评可能有剧透                        看完我最大的疑问就是这样的...</td>\n",
       "      <td>NaN</td>\n",
       "      <td>2021-09-19 23:42:05</td>\n",
       "    </tr>\n",
       "    <tr>\n",
       "      <th>4</th>\n",
       "      <td>发现</td>\n",
       "      <td>为了公平起见，我们不能事先公布游戏内容”——□ 这是□（管理员）的一句话。 可现实是：第一个...</td>\n",
       "      <td>NaN</td>\n",
       "      <td>2021-09-24 13:02:41</td>\n",
       "    </tr>\n",
       "  </tbody>\n",
       "</table>\n",
       "</div>"
      ],
      "text/plain": [
       "                           title  \\\n",
       "0  《鱿鱼游戏》的空间与符号隐喻分析，人性外“浓缩”的社会规则   \n",
       "1                     我讨厌那些理智的评论   \n",
       "2        我赌马打架不工作啃老但我知道我是个好爸爸好儿子   \n",
       "3            男主不是圣父，而是伪善，坏而不自知！！   \n",
       "4                             发现   \n",
       "\n",
       "                                             snippet  rating  \\\n",
       "0  这篇剧评可能有剧透                        （首发于公众号：霧風誌，欢...    50.0   \n",
       "1  这个电视剧里设计的游戏就是你我身处真实世界的一个形态变化。 每一次，大家都在强调，人不是数字...    50.0   \n",
       "2  这篇剧评可能有剧透                        圣父，是众生之父。 这部片...    30.0   \n",
       "3  这篇剧评可能有剧透                        看完我最大的疑问就是这样的...     NaN   \n",
       "4  为了公平起见，我们不能事先公布游戏内容”——□ 这是□（管理员）的一句话。 可现实是：第一个...     NaN   \n",
       "\n",
       "                  date  \n",
       "0  2021-09-19 15:40:14  \n",
       "1  2021-09-20 14:27:58  \n",
       "2  2021-09-19 19:41:11  \n",
       "3  2021-09-19 23:42:05  \n",
       "4  2021-09-24 13:02:41  "
      ]
     },
     "execution_count": 3,
     "metadata": {},
     "output_type": "execute_result"
    }
   ],
   "source": [
    "import pandas as pd\n",
    "\n",
    "df = pd.read_csv(\"douban_eeaao_reviews.csv\")\n",
    "df.head()"
   ]
  },
  {
   "cell_type": "code",
   "execution_count": null,
   "id": "b2ee9599",
   "metadata": {},
   "outputs": [],
   "source": []
  }
 ],
 "metadata": {
  "kernelspec": {
   "display_name": "venv",
   "language": "python",
   "name": "python3"
  },
  "language_info": {
   "codemirror_mode": {
    "name": "ipython",
    "version": 3
   },
   "file_extension": ".py",
   "mimetype": "text/x-python",
   "name": "python",
   "nbconvert_exporter": "python",
   "pygments_lexer": "ipython3",
   "version": "3.13.1"
  }
 },
 "nbformat": 4,
 "nbformat_minor": 5
}
